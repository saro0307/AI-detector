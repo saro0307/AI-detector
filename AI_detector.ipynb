{
  "nbformat": 4,
  "nbformat_minor": 0,
  "metadata": {
    "colab": {
      "provenance": [],
      "authorship_tag": "ABX9TyOL8V+2FhrReUStRgkAiYk3",
      "include_colab_link": true
    },
    "kernelspec": {
      "name": "python3",
      "display_name": "Python 3"
    },
    "language_info": {
      "name": "python"
    }
  },
  "cells": [
    {
      "cell_type": "markdown",
      "metadata": {
        "id": "view-in-github",
        "colab_type": "text"
      },
      "source": [
        "<a href=\"https://colab.research.google.com/github/saro0307/AI-detector/blob/main/AI_detector.ipynb\" target=\"_parent\"><img src=\"https://colab.research.google.com/assets/colab-badge.svg\" alt=\"Open In Colab\"/></a>"
      ]
    },
    {
      "cell_type": "code",
      "source": [
        "import numpy as np\n",
        "import pandas as pd"
      ],
      "metadata": {
        "id": "yjbJ1YEcBuiB"
      },
      "execution_count": 4,
      "outputs": []
    },
    {
      "cell_type": "code",
      "source": [
        "df=pd.read_csv ('/content/chatgpt_paraphrases.csv')\n",
        "print(df)\n",
        "print(df.shape)"
      ],
      "metadata": {
        "id": "t_Lf-9oYFczP"
      },
      "execution_count": null,
      "outputs": []
    },
    {
      "cell_type": "code",
      "source": [
        "df['text'][1]\n",
        "df['paraphrases'][1]"
      ],
      "metadata": {
        "id": "q9CNCw7yC7bU"
      },
      "execution_count": null,
      "outputs": []
    },
    {
      "cell_type": "code",
      "source": [
        "category={}\n",
        "for i in range(len(df)):\n",
        "    chatgpt=df.iloc[i][\"paraphrases\"][1:-1].split(', ')\n",
        "    for j in chatgpt[:1]:\n",
        "        category[j[1:-1]]='chatgpt'\n",
        "    category[df.iloc[i]['text']]=\"human\"\n",
        "\n",
        "category"
      ],
      "metadata": {
        "id": "Aby8zOxeC7d1"
      },
      "execution_count": null,
      "outputs": []
    },
    {
      "cell_type": "code",
      "source": [
        "df=pd.DataFrame(category.items(),columns=[\"text\",\"category\"])\n",
        "df=df.sample(frac=1)\n",
        "df=df[:20000]\n",
        "df"
      ],
      "metadata": {
        "id": "Znub2m93C7gQ"
      },
      "execution_count": null,
      "outputs": []
    },
    {
      "cell_type": "code",
      "source": [
        "df[\"category\"].value_counts()"
      ],
      "metadata": {
        "id": "g885m8ctC7i_"
      },
      "execution_count": null,
      "outputs": []
    },
    {
      "cell_type": "code",
      "source": [
        "X=df['text']\n",
        "y=df['category']"
      ],
      "metadata": {
        "id": "xZo-O60MC7lo"
      },
      "execution_count": 24,
      "outputs": []
    },
    {
      "cell_type": "code",
      "source": [
        "from sklearn.model_selection import train_test_split\n",
        "X_train, X_test, y_train, y_test = train_test_split(X, y, test_size=0.2)"
      ],
      "metadata": {
        "id": "DYMqLv5uC7ot"
      },
      "execution_count": 25,
      "outputs": []
    },
    {
      "cell_type": "code",
      "source": [
        "from sklearn.feature_extraction.text import TfidfVectorizer\n",
        "vectorizer = TfidfVectorizer()\n",
        "X_train_tfidf = vectorizer.fit_transform(X_train)\n",
        "X_test_tfidf = vectorizer.transform(X_test)"
      ],
      "metadata": {
        "id": "6VaqokSpC7rW"
      },
      "execution_count": 26,
      "outputs": []
    },
    {
      "cell_type": "code",
      "source": [
        "from sklearn.linear_model import LogisticRegression\n",
        "from sklearn.svm import SVC\n",
        "from sklearn.naive_bayes import MultinomialNB\n",
        "from sklearn.tree import DecisionTreeClassifier\n",
        "from sklearn.neighbors import KNeighborsClassifier\n",
        "from sklearn.ensemble import RandomForestClassifier\n",
        "from sklearn.ensemble import ExtraTreesClassifier\n",
        "from sklearn.ensemble import AdaBoostClassifier\n",
        "from sklearn.ensemble import BaggingClassifier\n",
        "from sklearn.ensemble import GradientBoostingClassifier\n",
        "from sklearn import metrics\n",
        "from sklearn.metrics import confusion_matrix"
      ],
      "metadata": {
        "id": "B_rCDKwQC7uE"
      },
      "execution_count": 36,
      "outputs": []
    },
    {
      "cell_type": "code",
      "source": [
        "lg = LogisticRegression(penalty='l1',solver='liblinear')\n",
        "sv = SVC(kernel='sigmoid',gamma=1.0)\n",
        "mnb = MultinomialNB()\n",
        "dtc = DecisionTreeClassifier(max_depth=5)\n",
        "knn = KNeighborsClassifier()\n",
        "rfc = RandomForestClassifier(n_estimators=50,random_state=2)\n",
        "etc = ExtraTreesClassifier(n_estimators=50,random_state=2)\n",
        "abc = AdaBoostClassifier(n_estimators=50,random_state=2)\n",
        "bg = BaggingClassifier(n_estimators=50,random_state=2)\n",
        "gbc = GradientBoostingClassifier(n_estimators=50,random_state=2)"
      ],
      "metadata": {
        "id": "lHEf_Sa7C7xr"
      },
      "execution_count": 28,
      "outputs": []
    },
    {
      "cell_type": "code",
      "source": [
        "def prediction(model, X_train, X_test, y_train, y_test):\n",
        "    model.fit(X_train, y_train)\n",
        "    pr = model.predict(X_test)\n",
        "    acc_score = metrics.accuracy_score(y_test, pr)\n",
        "    f1 = metrics.f1_score(y_test, pr, average=\"binary\", pos_label=\"chatgpt\")\n",
        "    return acc_score, f1\n",
        "\n",
        "acc_score = {}\n",
        "f1_score = {}\n",
        "clfs = {\n",
        "    'LR': lg,\n",
        "    'SVM': sv,\n",
        "    'DTC': dtc,\n",
        "    'KNN': knn,\n",
        "    'RFC': rfc,\n",
        "    'ETC': etc,\n",
        "    'ABC': abc,\n",
        "    'BG': bg,\n",
        "    'GBC': gbc,\n",
        "}\n",
        "for name, clf in clfs.items():\n",
        "    acc_score[name], f1_score[name] = prediction(clf, X_train_tfidf, X_test_tfidf, y_train, y_test)\n",
        "\n",
        "# View those scores\n",
        "for name, acc in acc_score.items():\n",
        "    print(f'Accuracy for {name}: {acc}')\n",
        "\n",
        "for name, f1 in f1_score.items():\n",
        "    print(f'F1 score for {name}: {f1}')\n"
      ],
      "metadata": {
        "id": "tTCQU77MGHTG"
      },
      "execution_count": null,
      "outputs": []
    },
    {
      "cell_type": "code",
      "source": [
        "etc.fit(X_train_tfidf,y_train)"
      ],
      "metadata": {
        "id": "lx9OCxgpGHu7"
      },
      "execution_count": null,
      "outputs": []
    },
    {
      "cell_type": "code",
      "source": [
        "y_preddf=pd.DataFrame(y_pred)\n",
        "y_preddf.rename(columns={0:'category predicted'},inplace=True)\n",
        "y_preddf"
      ],
      "metadata": {
        "id": "wGyw6F8HKXBZ"
      },
      "execution_count": null,
      "outputs": []
    },
    {
      "cell_type": "code",
      "source": [
        "x_testdf=pd.DataFrame(X_test)\n",
        "y_testdf=pd.DataFrame(y_test)\n",
        "x_testdf['id'] = range(1, len(x_testdf) + 1)\n",
        "y_testdf['id'] = range(1, len(y_testdf) + 1)\n",
        "y_preddf['id'] = range(1, len(y_preddf) + 1)\n",
        "join1=y_testdf.merge(x_testdf, how = 'inner' ,indicator=False)\n",
        "join_df=join1.merge(y_preddf, how = 'inner' ,indicator=False)\n",
        "join_df[20:30]"
      ],
      "metadata": {
        "id": "CB9PMnz1KXL2"
      },
      "execution_count": null,
      "outputs": []
    },
    {
      "cell_type": "code",
      "source": [
        "# confusion matrix\n",
        "\n",
        "import seaborn as sn\n",
        "import pandas as pd\n",
        "import matplotlib.pyplot as plt\n",
        "df_cm = pd.DataFrame(cm, index = [i for i in [\"ChatGPT\",\"Human\"]],\n",
        "                  columns = [i for i in [\"ChatGPT\",\"Human\"]])\n",
        "plt.figure(figsize = (10,7))\n",
        "sn.heatmap(df_cm, annot=True,cmap=\"YlGnBu\", fmt='g')\n",
        "\n",
        "# roc curve\n",
        "\n",
        "from sklearn.metrics import roc_curve,auc\n",
        "y_prob = etc.predict_proba(X_test_tfidf)[:, 1]\n",
        "\n",
        "fpr, tpr, thresholds = roc_curve(y_test, y_prob, pos_label='human')\n",
        "\n",
        "# Calculate the area under the ROC curve\n",
        "roc_auc = auc(fpr, tpr)\n",
        "\n",
        "# Plot the ROC curve\n",
        "plt.plot(fpr, tpr, color='blue', lw=2, label='ROC curve (area = %0.2f)' % roc_auc)\n",
        "plt.plot([0, 1], [0, 1], color='black', lw=2, linestyle='--')\n",
        "plt.xlim([0.0, 1.0])\n",
        "plt.ylim([0.0, 1.05])\n",
        "plt.xlabel('False Positive Rate')\n",
        "plt.ylabel('True Positive Rate')\n",
        "plt.title('Receiver Operating Characteristic')\n",
        "plt.legend(loc=\"lower right\")\n",
        "plt.show()"
      ],
      "metadata": {
        "colab": {
          "base_uri": "https://localhost:8080/",
          "height": 857
        },
        "id": "qPYX6KNcLkuh",
        "outputId": "ff74a38b-20c4-4aee-a087-c9f7ec1ec0cb"
      },
      "execution_count": 53,
      "outputs": [
        {
          "output_type": "display_data",
          "data": {
            "text/plain": [
              "<Figure size 1000x700 with 2 Axes>"
            ],
            "image/png": "[encoded data removed]"
          },
          "metadata": {}
        }
      ]
    },
    {
      "cell_type": "code",
      "source": [
        "accuracy_score=metrics.accuracy_score(y_pred,y_test)*100\n",
        "accuracy_score"
      ],
      "metadata": {
        "colab": {
          "base_uri": "https://localhost:8080/"
        },
        "id": "fHU96BROKjas",
        "outputId": "e6be10f1-1746-4443-9799-138b0f8543e9"
      },
      "execution_count": 48,
      "outputs": [
        {
          "output_type": "execute_result",
          "data": {
            "text/plain": [
              "83.775"
            ]
          },
          "metadata": {},
          "execution_count": 48
        }
      ]
    },
    {
      "cell_type": "code",
      "source": [
        "input=['Hello!! This is Ana']\n",
        "vect_input=vectorizer.transform(input)\n",
        "etc.predict(vect_input)\n",
        "\n",
        "#array(['human'], dtype=object)\n",
        "\n",
        "input=['Hello!! This is chatgpt']\n",
        "vect_input=vectorizer.transform(input)\n",
        "etc.predict(vect_input)\n",
        "\n",
        "#array(['human'], dtype=object)\n",
        "\n",
        "input=['Can you please provide a step by step guide for writing articles online']\n",
        "vect_input=vectorizer.transform(input)\n",
        "etc.predict(vect_input)\n",
        "\n",
        "#array(['chatgpt'], dtype=object)\n",
        "\n",
        "input=['These are the websites for watching movies that I can recommend you']\n",
        "vect_input=vectorizer.transform(input)\n",
        "etc.predict(vect_input)\n",
        "\n",
        "#array(['chatgpt'], dtype=object)"
      ],
      "metadata": {
        "colab": {
          "base_uri": "https://localhost:8080/"
        },
        "id": "gMMohFVFKoff",
        "outputId": "7961626a-6673-4ab7-a937-aa40eb2635d8"
      },
      "execution_count": 50,
      "outputs": [
        {
          "output_type": "execute_result",
          "data": {
            "text/plain": [
              "array(['chatgpt'], dtype=object)"
            ]
          },
          "metadata": {},
          "execution_count": 50
        }
      ]
    }
  ]
}