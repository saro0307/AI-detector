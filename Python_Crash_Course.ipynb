{
  "nbformat": 4,
  "nbformat_minor": 0,
  "metadata": {
    "kernelspec": {
      "name": "python3",
      "display_name": "Python 3"
    },
    "language_info": {
      "codemirror_mode": {
        "name": "ipython",
        "version": 3
      },
      "file_extension": ".py",
      "mimetype": "text/x-python",
      "name": "python",
      "nbconvert_exporter": "python",
      "pygments_lexer": "ipython3",
      "version": "3.7.2"
    },
    "colab": {
      "private_outputs": true,
      "provenance": [],
      "include_colab_link": true
    }
  },
  "cells": [
    {
      "cell_type": "markdown",
      "metadata": {
        "id": "view-in-github",
        "colab_type": "text"
      },
      "source": [
        "<a href=\"https://colab.research.google.com/github/saro0307/AI-detector/blob/main/Python_Crash_Course.ipynb\" target=\"_parent\"><img src=\"https://colab.research.google.com/assets/colab-badge.svg\" alt=\"Open In Colab\"/></a>"
      ]
    },
    {
      "cell_type": "markdown",
      "metadata": {
        "id": "M_N8vKTz4GbD"
      },
      "source": [
        "# Python Crash Course\n",
        "\n",
        "This notebook will introduce some fundamental concepts of Python.\n",
        "\n",
        "**VERY IMPORTANT**: you should first visit:\n",
        "\n",
        "- This welcome: https://colab.research.google.com/notebooks/welcome.ipynb\n",
        "- And this overview: https://colab.research.google.com/notebooks/basic_features_overview.ipynb\n",
        "\n",
        "to get a quick overview of working with Google Colaboratory Notebooks.\n"
      ]
    },
    {
      "cell_type": "code",
      "source": [],
      "metadata": {
        "id": "zLvq0rT6IPTt"
      },
      "execution_count": null,
      "outputs": []
    },
    {
      "cell_type": "code",
      "metadata": {
        "id": "IFOFsYOi6hSl"
      },
      "source": [
        "import tensorflow as tf\n"
      ],
      "execution_count": null,
      "outputs": []
    },
    {
      "cell_type": "code",
      "metadata": {
        "id": "5ZGg7cHx6oSx"
      },
      "source": [
        "!pip install tensorforce"
      ],
      "execution_count": null,
      "outputs": []
    },
    {
      "cell_type": "code",
      "metadata": {
        "id": "0HfqfxEO60rV"
      },
      "source": [
        "import tensorforce"
      ],
      "execution_count": null,
      "outputs": []
    },
    {
      "cell_type": "code",
      "metadata": {
        "id": "_xRb2Vmo-83t"
      },
      "source": [
        "foo = 'This is a string'\n",
        "help(foo.upper)"
      ],
      "execution_count": null,
      "outputs": []
    },
    {
      "cell_type": "code",
      "metadata": {
        "id": "lYG_tDItwDJU"
      },
      "source": [
        "def bar(x):\n",
        "  'This is my help string'\n",
        "  pass\n",
        "help(bar)"
      ],
      "execution_count": null,
      "outputs": []
    },
    {
      "cell_type": "markdown",
      "metadata": {
        "id": "aoMrBqLXwpVT"
      },
      "source": [
        "## Basic data types\n",
        "Python is a modern programming language that supports a range of basic, atomic data types.\n",
        "\n"
      ]
    },
    {
      "cell_type": "markdown",
      "metadata": {
        "id": "cr6oB1VP3lke"
      },
      "source": [
        "### Numbers\n",
        "The integer numbers (e.g. 2, 4, 20) have type int, the ones with a\n",
        "fractional part (e.g. 5.0, 1.6) have type float.\n",
        "Expression syntax is straightforward: the operators +, -, * and / work just like in\n",
        "most other languages; parentheses (()) can be used for grouping.\n",
        "The equal sign (=) is used to assign a value to a variable."
      ]
    },
    {
      "cell_type": "code",
      "metadata": {
        "id": "G696UGzTwpVU"
      },
      "source": [
        "print(2 + 10)\n",
        "print(50 - 5*6)\n",
        "print((50 - 5.0*6) / 4)\n",
        "print(8.0 / 6)\n",
        "print(2**12345)\n",
        "print(2.0 ** 12347)"
      ],
      "execution_count": null,
      "outputs": []
    },
    {
      "cell_type": "markdown",
      "metadata": {
        "id": "wQiX6GDnwpVb"
      },
      "source": [
        "### Strings\n",
        "Besides numbers, Python can also manipulate strings, which can be expressed in\n",
        "several ways.\n",
        "They can be enclosed in single quotes ('. . . ') or double quotes (\". . . \") with the\n",
        "same result.\n",
        "String literals can span multiple lines. One way is using triple-quotes: \"\"\". . . \"\"\" or '''. . . '''."
      ]
    },
    {
      "cell_type": "code",
      "metadata": {
        "id": "ocAY6tGSwpVc"
      },
      "source": [
        "print('spam eggs') # single quotes\n",
        "print('doesn\\'t')  # use \\’ to escape the single quote...\n",
        "\n",
        "# ...or use double quotes instead\n",
        "print(\"doesn't\")\n",
        "print('\"Yes,\" he said.')\n",
        "\n",
        "# An example of a multi-line string\n",
        "print(\"\"\"\n",
        " Usage: thingy [OPTIONS]\n",
        "        -h\n",
        "        -H hostname\n",
        "\"\"\")"
      ],
      "execution_count": null,
      "outputs": []
    },
    {
      "cell_type": "markdown",
      "metadata": {
        "id": "lDL6nqXjwpVh"
      },
      "source": [
        "### Lists\n",
        "Python supports many compound data types that group together other values.\n",
        "The most versatile is the list, which can be written as a list of comma-separated\n",
        "values (items) between square brackets.\n",
        "Lists might contain items of different types, but usually the items all have the\n",
        "same type.\n",
        "\n",
        "Lists are mutable data structures (you can change their values).\n",
        "Strings can be indexed like lists, but are immutable.\n",
        "\n",
        "Lists are kind of like arrays (random-access indexing), but can expand and change\n",
        "size."
      ]
    },
    {
      "cell_type": "code",
      "metadata": {
        "scrolled": false,
        "id": "8fYoL4aLwpVi"
      },
      "source": [
        "# A list of square numbers.\n",
        "squares = [1, 4, 9, 16, 25]\n",
        "print('squares:', squares)\n",
        "\n",
        "# You can access element using square braces.\n",
        "print('squares[0]:', squares[0])\n",
        "\n",
        "# Indexing also works right-to-left\n",
        "print('squares[-1]:', squares[-1])\n",
        "\n",
        "squares.append(36)\n",
        "print(squares)\n",
        "print(len(squares))\n",
        "print(squares[2:4])\n",
        "squares[2:4] = []\n",
        "squares"
      ],
      "execution_count": null,
      "outputs": []
    },
    {
      "cell_type": "markdown",
      "metadata": {
        "id": "XiqFcN1xwpVl"
      },
      "source": [
        "Lists are mutable data structures (you can change their values). Strings can be indexed like lists, but are immutable."
      ]
    },
    {
      "cell_type": "code",
      "metadata": {
        "id": "8R17V4k1wpVm"
      },
      "source": [
        "# A list of cubes (with one error)\n",
        "cubes = [1, 8, 27, 65, 125]\n",
        "cubes[3] = 64 # replace the wrong value\n",
        "print('cubes:', cubes)\n",
        "\n",
        "# Try to do same with a string.\n",
        "foo = '1234567'\n",
        "print('foo[3]: ' + foo[3])\n",
        "foo[3] = '9'"
      ],
      "execution_count": null,
      "outputs": []
    },
    {
      "cell_type": "markdown",
      "metadata": {
        "id": "d-004TBhwpVo"
      },
      "source": [
        "### Tuples\n",
        "Tuples are like lists, but are used in different situations and for different things.\n",
        "Tuples are immutable, and usually contain a heterogeneous sequence of elements\n",
        "that are accessed via unpacking (see later example) or indexing."
      ]
    },
    {
      "cell_type": "code",
      "metadata": {
        "id": "gs4lLKoKwpVp"
      },
      "source": [
        "# You can leave the parentheses off, if you like.\n",
        "t = (12345, 54321, 'hello!')\n",
        "print('t[0]: ', t[0])\n",
        "print('t: ', t)\n",
        "print(t[:2])\n",
        "# they can contain mutable objects:\n",
        "v = ([1, 2, 3], [3, 2, 1])\n",
        "print('v: ', v)\n",
        "v[0].append(100)\n",
        "v"
      ],
      "execution_count": null,
      "outputs": []
    },
    {
      "cell_type": "markdown",
      "metadata": {
        "id": "IRNeQ55AwpVu"
      },
      "source": [
        "### Tuple packing and unpacking\n",
        "Tuple construction is referred to as “tuple packing” since you are\n",
        "packing elements together into a single compound data structure.\n",
        "The reverse is also possible, by which tuple values are unpacked into a\n",
        "sequence of variables."
      ]
    },
    {
      "cell_type": "code",
      "metadata": {
        "id": "sue6pbeDwpVu"
      },
      "source": [
        "# Make the tuple.\n",
        "t = (12345, 54321, 'hello!')\n",
        "\n",
        "# Print the value.\n",
        "print('Tuple: ', t)\n",
        "\n",
        "# Unpack the tuple into individual variables.\n",
        "(x, y, z) = t\n",
        "print('x: ', x)\n",
        "print('y: ', y)\n",
        "print('z: ', z)\n",
        "\n",
        "def foo(a, b):\n",
        "    return (a + b, [a * b, float(a) / b])\n",
        "\n",
        "(s, l) = foo(10, 20)\n",
        "s"
      ],
      "execution_count": null,
      "outputs": []
    },
    {
      "cell_type": "code",
      "metadata": {
        "id": "QPkoJroH1eN6"
      },
      "source": [
        "(s, _) = foo(10, 20)\n",
        "print(s)"
      ],
      "execution_count": null,
      "outputs": []
    },
    {
      "cell_type": "markdown",
      "metadata": {
        "id": "bImjmZb3wpVx"
      },
      "source": [
        "### Dictionaries\n",
        "\n",
        "Python relies heavily on the use of dictionaries to organize access to key/value\n",
        "pairs.\n",
        "Dictionaries are sometimes called hashes, associative arrays, or HashMap in Java\n",
        "and std::Map in C++."
      ]
    },
    {
      "cell_type": "code",
      "metadata": {
        "id": "iR9fYqAJwpVy"
      },
      "source": [
        "# Map names to numbers.\n",
        "tel = {'jack': 4098, 'sape': 4139}\n",
        "\n",
        "# Add Guido's number.\n",
        "tel['guido'] = 4127\n",
        "\n",
        "# Print some stuff.\n",
        "print('Guido\\'s #: ', tel['guido'])\n",
        "\n",
        "# Change Guido's number.\n",
        "tel['guido'] = 1234\n",
        "\n",
        "print('The whole dict: ', tel)\n",
        "print('The keys: ', tel.keys())\n",
        "\n",
        "# Check if 'guido' is in the keys of dict 'tel'.\n",
        "print('Guido in tel?', 'guido' in tel)\n",
        "\n",
        "tel[10] = 1234\n",
        "\n",
        "tel.items()"
      ],
      "execution_count": null,
      "outputs": []
    },
    {
      "cell_type": "markdown",
      "metadata": {
        "id": "WyZIJqXbwpV1"
      },
      "source": [
        "## Conditionals and indentation\n",
        "The if statement is probably the most common control-flow tool in\n",
        "any programming language.\n",
        "It is also a good example of one of the most controversial syntactic\n",
        "features of Python, the fact that indentation matters.\n",
        "Recall how in most programming languages braces ('{' and '}') are used\n",
        "to indicate scope and logically sequential blocks.\n",
        "In Python, code that is indented at the same level is considered to be\n",
        "in the same block – exactly as if there were enclosing braces.\n",
        "This is used extensively in function definitions, to indicate the logical\n",
        "blocks for if ... then ... else constructions, and in class\n",
        "definitions."
      ]
    },
    {
      "cell_type": "code",
      "metadata": {
        "id": "M4toLeemwpV1"
      },
      "source": [
        "x = int(input('Please enter an integer: '))\n",
        "if x < 0:\n",
        "    x = 0\n",
        "    print('Negative changed to zero')\n",
        "elif x == 0:\n",
        "    print('Zero')\n",
        "elif x == 1:\n",
        "    print('Single')\n",
        "else:\n",
        "    print('More')"
      ],
      "execution_count": null,
      "outputs": []
    },
    {
      "cell_type": "markdown",
      "metadata": {
        "id": "ySl1W06GwpV4"
      },
      "source": [
        "## For loops\n",
        "The for statement in Python also uses indented blocks.\n",
        "But, the most important difference is that in Python, for loops are\n",
        "generalized iterators over sequences.\n",
        "In most languages, for loops iterate over ranges of integers, which\n",
        "can then be used to index compound data structures like lists.\n",
        "In Python, iteration is always over a sequence data type like a list.\n",
        "\n",
        "NOTE: In Python 3, range() is an enumerator."
      ]
    },
    {
      "cell_type": "code",
      "metadata": {
        "id": "trD3xJzpwpV5"
      },
      "source": [
        "words = ['cat', 'window', 'defenestrate']\n",
        "print(range(len(words)))\n",
        "for i in range(len(words)):\n",
        "    print(i, words[i])"
      ],
      "execution_count": null,
      "outputs": []
    },
    {
      "cell_type": "code",
      "metadata": {
        "scrolled": true,
        "id": "YMPdcvjtwpV7"
      },
      "source": [
        "list(enumerate([1, 5, 100, 10000]))"
      ],
      "execution_count": null,
      "outputs": []
    },
    {
      "cell_type": "markdown",
      "metadata": {
        "id": "vuLTfQXZwpV-"
      },
      "source": [
        "## Enumerations\n",
        "Sometimes you need list items *and* their indices -- this is\n",
        "        called *enumerating* list items.\n",
        "      You can use ``len()`` and ``range()`` for this.\n",
        "      Or, you can use the ``enumerate()`` function and *unpack* the\n",
        "        pairs."
      ]
    },
    {
      "cell_type": "code",
      "metadata": {
        "id": "kULsqVA2wpV_"
      },
      "source": [
        "# A simple list.\n",
        "a = ['Mary', 'had', 'a', 'little', 'lamb']\n",
        "\n",
        "# Iterate over all indices in the list.\n",
        "for i in range(len(a)):\n",
        "    print(i, a[i])\n",
        "\n",
        "# An enumerate object behaves like a list.\n",
        "print('\\nenum:', enumerate(a))\n",
        "print('list:', list(enumerate(a)))\n",
        "\n",
        "# Iterate over pairs of (i, name) which have both index and name.\n",
        "for (i, name) in enumerate(a):\n",
        "    print('Foo: {} {}'.format(i, name))"
      ],
      "execution_count": null,
      "outputs": []
    },
    {
      "cell_type": "markdown",
      "metadata": {
        "id": "1wR-JOAUwpWB"
      },
      "source": [
        "## List comprehensions\n",
        "List comprehensions provide a concise way to create lists.\n",
        "Common applications are to make new lists where each element is the result\n",
        "operations applied to each member of another sequence (this is called a map).\n",
        "Or to create a subsequence of those elements that satisfy a certain condition (this\n",
        "is called a filter)."
      ]
    },
    {
      "cell_type": "code",
      "metadata": {
        "id": "FgC7ptmHwpWC"
      },
      "source": [
        "# This is the lame way to do this...\n",
        "squares = []\n",
        "for x in range(10):\n",
        "    squares.append(x**2)\n",
        "print('    lame:', squares)\n",
        "\n",
        "# Much better:\n",
        "squares = [x**2 for x in range(10)]\n",
        "print('not lame:', squares)"
      ],
      "execution_count": null,
      "outputs": []
    },
    {
      "cell_type": "markdown",
      "metadata": {
        "id": "DUeMNBErwpWE"
      },
      "source": [
        "A list comprehension consists of brackets containing an expression followed by a\n",
        "for clause.\n",
        "Then zero or more ''for'' or ''if'' clauses.\n",
        "The result is a new list resulting from evaluating the expression in the context of\n",
        "the for and if clauses which follow it."
      ]
    },
    {
      "cell_type": "code",
      "metadata": {
        "id": "B3cDci6PwpWF"
      },
      "source": [
        "print('filter:', [x ** 2 for x in range(10) if (x % 2) == 0])\n",
        "print('nested:', [(x, y) for x in [1,2,3] for y in [3,1,4]])\n",
        "\n",
        "# Let's get a bit fancier.\n",
        "from math import pi\n",
        "[round(pi, i) for i in range(1, 6)]"
      ],
      "execution_count": null,
      "outputs": []
    },
    {
      "cell_type": "markdown",
      "metadata": {
        "id": "3k-IXU92wpWI"
      },
      "source": [
        "## Functions\n",
        "Python provides an expressive and flexible syntax for making function definitions.\n",
        "\n",
        "### Function definitions\n",
        "The keyword ''def'' introduces a function definition.\n",
        "It must be followed by the function name and the parenthesized list of\n",
        "formal parameters.\n",
        "The statements that form the body of the function start at the next\n",
        "line, and must be indented."
      ]
    },
    {
      "cell_type": "code",
      "metadata": {
        "id": "7jDYebfxwpWJ"
      },
      "source": [
        "# Print Fibonacci numbers up to n.\n",
        "def fib(n):\n",
        "    \"\"\"Print a Fibonacci series up to n.\"\"\"\n",
        "    a, b = 0, 1\n",
        "    while a < n:\n",
        "        print(a)\n",
        "        a, b = b, a+b  # Note the parallel assignment.\n",
        "\n",
        "# Now call the function we just defined:\n",
        "fib(2000)\n",
        "help(fib)"
      ],
      "execution_count": null,
      "outputs": []
    },
    {
      "cell_type": "markdown",
      "metadata": {
        "id": "OYfjhWFSwpWM"
      },
      "source": [
        "### Docstrings\n",
        "The first statement of the function body can optionally be a string literal\n",
        "This string literal is the function’s documentation string, or docstring.\n",
        "There are tools which use docstrings to automatically produce online or printed\n",
        "documentation, or to let the user interactively browse through code."
      ]
    },
    {
      "cell_type": "code",
      "metadata": {
        "id": "1T-DwDgJwpWN"
      },
      "source": [
        "def sq(n):\n",
        "    \"\"\"\n",
        "    Return the square of n, accepting all numeric types:\n",
        "\n",
        "    >>> sq(10)\n",
        "    100\n",
        "\n",
        "    >>> sq(10.434)\n",
        "    108.86835599999999\n",
        "\n",
        "    Raises a TypeError when input is invalid:\n",
        "\n",
        "    >>> sq(4*'435')\n",
        "    Traceback (most recent call last):\n",
        "      ...\n",
        "    TypeError: can't multiply sequence by non-int of type 'str'\n",
        "\n",
        "    \"\"\"\n",
        "    return n*n\n",
        "\n",
        "foo = sq\n",
        "print(foo(10))\n",
        "foo.__doc__\n",
        "help(foo)"
      ],
      "execution_count": null,
      "outputs": []
    },
    {
      "cell_type": "markdown",
      "metadata": {
        "id": "HzwDqcCIwpWS"
      },
      "source": [
        "### Default argument values\n",
        "Default values define functions that can be called with fewer\n",
        "        arguments."
      ]
    },
    {
      "cell_type": "code",
      "metadata": {
        "id": "SV8518PiwpWS"
      },
      "source": [
        "def ask_ok(prompt, retries=4, complaint='Yes or no, please!'):\n",
        "    while True:\n",
        "        ok = input(prompt)\n",
        "        if ok in ('y', 'ye', 'yes'):\n",
        "            return True\n",
        "        if ok in ('n', 'no', 'nop', 'nope'):\n",
        "            return False\n",
        "        retries = retries - 1\n",
        "        if retries < 0:\n",
        "            raise IOError('refusenik user')\n",
        "        print(complaint)\n",
        "\n",
        "ask_ok(prompt='Quit without saving?')"
      ],
      "execution_count": null,
      "outputs": []
    },
    {
      "cell_type": "markdown",
      "metadata": {
        "id": "F0PDOBEOwpWV"
      },
      "source": [
        "### Passing named arguments\n",
        "Default arguments are very powerful in combination with explicit, named argument passing. This allows flexible default fallback."
      ]
    },
    {
      "cell_type": "code",
      "metadata": {
        "id": "pSBpxS-wwpWV"
      },
      "source": [
        "def parrot(voltage, state='a stiff', action='voom', type='Norwegian Blue'):\n",
        "    print(\"\\n-- This parrot wouldn't\", action, end=' ')\n",
        "    print(\"if you put\", voltage, \"volts through it.\", end='\\n')\n",
        "    print(\"-- Lovely plumage, the\", type, end='\\n')\n",
        "    print(\"-- It's\", state, \"!\", end='\\n\\n')\n",
        "\n",
        "parrot(1000)                                         # 1 positional\n",
        "parrot(voltage=1000)                                 # 1 keyword\n",
        "parrot(voltage=1000000, action='VOOOOOM')            # 2 keyword\n",
        "parrot(action='VOOOOOM', voltage=1000000)            # 2 keyword\n",
        "parrot('a million', 'bereft of life', 'jump')        # 3 positional\n",
        "parrot('a thousand', state='pushing up the daisies') # 1 positional and\n",
        "                                                     # 1 keyword"
      ],
      "execution_count": null,
      "outputs": []
    },
    {
      "cell_type": "markdown",
      "metadata": {
        "id": "2-7IfHNVwpWY"
      },
      "source": [
        "### Lambda expressions\n",
        "Sometimes you need to provide a simple function as an argument\n",
        "(e.g. the comparison for a sort).\n",
        "The **lambda** keyword allows you to create small anonymous functions.\n",
        "They can be used wherever function objects are required, but are\n",
        "syntactically restricted to a single expression."
      ]
    },
    {
      "cell_type": "code",
      "metadata": {
        "id": "vrMVOy3QwpWY"
      },
      "source": [
        "import math\n",
        "def first(x):\n",
        "    return x[0]\n",
        "\n",
        "pairs = [(1, 'one'), (2, 'two'), (3, 'three'), (4, 'four')]\n",
        "\n",
        "print(list(map(lambda x: x[0], pairs)))\n",
        "list(map(first, pairs))\n"
      ],
      "execution_count": null,
      "outputs": []
    },
    {
      "cell_type": "markdown",
      "metadata": {
        "id": "XKELQR7twpWb"
      },
      "source": [
        "## Modules\n",
        "\n",
        "Python has a flexible module system that allows you to group functions and other definitions of related functionality. These modules can then be imported.\n",
        "\n",
        "### Defining your own modules\n",
        "\n",
        "It’s very useful to group your code up into reusable packages.\n",
        "You can access code in saved files using the import directive.\n",
        "\n",
        "**NOTE**: In this course we will not be defining our own modules. We will, however, be importing definitions from many, many modules.\n"
      ]
    },
    {
      "cell_type": "code",
      "metadata": {
        "id": "5HEbGJGbwpWc"
      },
      "source": [
        "# Import the standard Python math module. Do some trigonometry. Note that we must use the module name to access members.\n",
        "import math\n",
        "for i in range(11):\n",
        "  print(math.sin(i*2*math.pi/10))"
      ],
      "execution_count": null,
      "outputs": []
    },
    {
      "cell_type": "markdown",
      "metadata": {
        "id": "rFdvrQN9wpWh"
      },
      "source": [
        "### Importing and renaming\n",
        "You can directly import functions into the global namespace (be careful of name clashes)."
      ]
    },
    {
      "cell_type": "code",
      "metadata": {
        "id": "_rJYat7ZwpWh"
      },
      "source": [
        "# Or, we can explicityly import the functions into the global namespace. Now we do not need to qualify members with module name.\n",
        "from math import cos, pi\n",
        "for i in range(11):\n",
        "  print(cos(i*2*pi/10))"
      ],
      "execution_count": null,
      "outputs": []
    },
    {
      "cell_type": "markdown",
      "metadata": {
        "id": "0w7OVlmrwpWk"
      },
      "source": [
        "You can also import a module using an alias, which is convenient when using the same module name a lot."
      ]
    },
    {
      "cell_type": "code",
      "metadata": {
        "id": "Bg88qynBwpWk"
      },
      "source": [
        "# Another common pattern is to alias modules.\n",
        "import numpy as np\n",
        "sins = [np.sin(a) for a in np.arange(0, 2*pi, 0.1)]\n",
        "print(sins)"
      ],
      "execution_count": null,
      "outputs": []
    },
    {
      "cell_type": "code",
      "metadata": {
        "id": "EH6oRuekwpWn"
      },
      "source": [
        "from fibos import *"
      ],
      "execution_count": null,
      "outputs": []
    },
    {
      "cell_type": "markdown",
      "metadata": {
        "id": "nGhDyd6MwpWp"
      },
      "source": [
        "## Classes and Objects\n",
        "A lot of Python code makes extensive use of object-oriented programming techniques. Classes have been added to the Python language with a minimum of new syntax to learn and remember.\n",
        "\n",
        "In this first crash course we will only introduce the basics.\n",
        "\n",
        "### Basic class definitions\n",
        "Class definitions, like function definitions (def statements) must be executed before\n",
        "they have any effect.\n",
        "The statements inside a class definition will usually be function definitions.\n",
        "Definitions inside a class normally have a peculiar form of argument list, dictated\n",
        "by the calling conventions for methods.\n",
        "When a class definition is entered, a new namespace is created, and used as the\n",
        "local scope — thus, all assignments to local variables go into this new namespace.\n",
        "When a class definition is left normally (via the end), a class object is created.\n",
        "\n",
        "- Note a few things:\n",
        "  - The variable **i** is defined in the class scope (a *member\n",
        "    variable*, or field, or *property*.\n",
        "  - Every instance of **MyClass** will have one.\n",
        "  - *VERY IMPORTANT*: the scope of member function bodies does\n",
        "    *NOT* contain the class scope itself.\n",
        "  - You *MUST* use the **self.** prefix to access members."
      ]
    },
    {
      "cell_type": "code",
      "metadata": {
        "id": "Qs8MICpKwpWr"
      },
      "source": [
        "class MyClass:\n",
        "    \"\"\"A simple example class\"\"\"\n",
        "    i = 12345\n",
        "    def f(self):\n",
        "        i = 54321\n",
        "        return 'hello world'\n",
        "\n",
        "    def f2(self):\n",
        "        self.i = 54321\n",
        "        return 'goodbye world'\n",
        "\n",
        "foo = MyClass()\n",
        "print(foo.i)\n",
        "print(foo.f())\n",
        "print(foo.i)\n",
        "print(foo.f2())\n",
        "print(foo.i)"
      ],
      "execution_count": null,
      "outputs": []
    },
    {
      "cell_type": "markdown",
      "metadata": {
        "id": "81ROKrt3wpWt"
      },
      "source": [
        "Class objects support two kinds of operations: attribute\n",
        "references and instantiation. Attribute references use the standard syntax used for all\n",
        "attribute references in Python: **obj.name**.\n",
        "Valid attribute names are all the names that were in the class's\n",
        "namespace when the class object was created.\n",
        "*Advice*: don't use class attributes, which are kind of like\n",
        "*static class members*, instead assign attributes in the *constructor*.\n",
        "Class instantiation uses function notation. Just pretend that\n",
        "the class object is a parameterless function that returns a new\n",
        "instance of the class."
      ]
    },
    {
      "cell_type": "markdown",
      "metadata": {
        "id": "jVs6wmpMDcAT"
      },
      "source": [
        "# Exercises\n",
        "\n",
        "Here are a few exercises for you to work through to practice your Python chops before the next lab."
      ]
    },
    {
      "cell_type": "markdown",
      "metadata": {
        "id": "JzlBn7wbDpQb"
      },
      "source": [
        "## Exercise 1.1: Less than N\n",
        "Take a list, say for example this one:\n",
        "\n",
        "  a = [1, 1, 2, 3, 5, 8, 13, 21, 34, 55, 89]\n",
        "\n",
        "and write a function that prints out all the elements of the list passed to it that **are less than N**.\n",
        "\n",
        "Extras:\n",
        "\n",
        "1. Instead of printing the elements one by one, make a new list that has all the elements less than N from this list in it and print out this new list.\n",
        "\n",
        "2. Write this function in one line of Python."
      ]
    },
    {
      "cell_type": "code",
      "metadata": {
        "id": "8C9rzXOfEUkd"
      },
      "source": [
        "# Solution 1.1\n",
        "def less_than(l, n):\n",
        "  pass # Your solution goes here."
      ],
      "execution_count": null,
      "outputs": []
    },
    {
      "cell_type": "markdown",
      "metadata": {
        "id": "ldDwHPpZEst7"
      },
      "source": [
        "## Exercise 1.2: Remove Duplicates\n",
        "\n",
        "Write a function that takes a list and returns a new list that contains all the elements of the first list minus all the duplicates.\n",
        "\n",
        "**Hint**: what data structure can you use to make this easy?"
      ]
    },
    {
      "cell_type": "code",
      "metadata": {
        "id": "93UfdSoGE9dy"
      },
      "source": [
        "# Solution 1.2\n",
        "def remove_dups(l):\n",
        "  pass # Your solution goes here."
      ],
      "execution_count": null,
      "outputs": []
    },
    {
      "cell_type": "markdown",
      "metadata": {
        "id": "bJ5T9iL2FHrG"
      },
      "source": [
        "## Exercise 1.3: List Comprehensions\n",
        "\n",
        "Let’s say I give you a list saved in a variable: a = [1, 4, 9, 16, 25, 36, 49, 64, 81, 100]. Write one line of Python that takes this list a and makes a new list that has only the even elements of this list in it."
      ]
    },
    {
      "cell_type": "code",
      "metadata": {
        "id": "jWuoja7GFl_L"
      },
      "source": [
        "# Solution 1.3\n",
        "a =  [1, 4, 9, 16, 25, 36, 49, 64, 81, 100]\n",
        "# Your solution goes here."
      ],
      "execution_count": null,
      "outputs": []
    },
    {
      "cell_type": "markdown",
      "metadata": {
        "id": "w5UzSinZFz5o"
      },
      "source": [
        "## Exercise 1.4: First and Last\n",
        "Write a function that takes a list (for example, [5, 10, 15, 20, 25]) and makes returns a new **tuple** of only the first and last elements of the given list.\n"
      ]
    },
    {
      "cell_type": "code",
      "metadata": {
        "id": "hbWF9-TKGDBi"
      },
      "source": [
        "# Solution 1.4\n",
        "# Your solution goes here."
      ],
      "execution_count": null,
      "outputs": []
    },
    {
      "cell_type": "markdown",
      "metadata": {
        "id": "5xjqp1iVGxWY"
      },
      "source": [
        "## Exercise 1.5: Circle Class\n",
        "Write a Python class named Circle constructed by a radius and having two methods which will compute the area and the perimeter of a circle.\n",
        "\n",
        "**Hint**: you might find the `pi` constant from the `math` module useful...\n"
      ]
    },
    {
      "cell_type": "code",
      "metadata": {
        "id": "nUNAmtrHG23w"
      },
      "source": [
        "# Solution 1.5\n",
        "class Circle:\n",
        "  pass # Your solution goes here."
      ],
      "execution_count": null,
      "outputs": []
    }
  ]
}